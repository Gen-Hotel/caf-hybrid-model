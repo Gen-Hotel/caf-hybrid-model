{
 "cells": [
  {
   "cell_type": "code",
   "execution_count": null,
   "id": "miniature-request",
   "metadata": {
    "scrolled": true
   },
   "outputs": [],
   "source": [
    "import ginsim\n",
    "import biolqm\n",
    "from colomoto_jupyter import tabulate\n",
    "import pandas as pd\n",
    "import numpy as np\n",
    "import seaborn as sns\n",
    "from matplotlib import pyplot as plt\n",
    "\n",
    "try:\n",
    "    import cobra\n",
    "except ImportError:\n",
    "    import sys\n",
    "    !{sys.executable} -m pip install cobra\n",
    "    import cobra\n",
    "\n",
    "cmp = sns.diverging_palette(0, 255, as_cmap=True)"
   ]
  },
  {
   "cell_type": "markdown",
   "id": "reserved-america",
   "metadata": {},
   "source": [
    "# 1. Loading the two models of interest\n",
    "\n",
    "- The CaSQ-generated CAF-specific boolean model;\n",
    "- MitoCore constraint-based model of human metabolism.\n",
    "\n",
    "## 1. 1. Load the generic CAF-model"
   ]
  },
  {
   "cell_type": "code",
   "execution_count": null,
   "id": "fewer-gross",
   "metadata": {},
   "outputs": [],
   "source": [
    "CAF_model = biolqm.load(\"CAF-model.sbml\")"
   ]
  },
  {
   "cell_type": "markdown",
   "id": "missing-night",
   "metadata": {},
   "source": [
    "The sanitize function is used to generate human-friendly node IDs and rescale the layout to improve the model's readability.\n",
    "\n",
    "\n",
    "*Note: this cell may take a few minutes to run.*"
   ]
  },
  {
   "cell_type": "code",
   "execution_count": null,
   "id": "corresponding-volume",
   "metadata": {},
   "outputs": [],
   "source": [
    "CAF_model = biolqm.sanitize(CAF_model)\n",
    "\n",
    "layout = CAF_model.getLayout()\n",
    "layout.scale(0.4)\n",
    "\n",
    "lrg = biolqm.to_ginsim(CAF_model)\n",
    "\n",
    "ginsim.show(lrg)"
   ]
  },
  {
   "cell_type": "markdown",
   "id": "suited-march",
   "metadata": {},
   "source": [
    "## 1.2. Load MitoCore "
   ]
  },
  {
   "cell_type": "code",
   "execution_count": null,
   "id": "ready-roommate",
   "metadata": {},
   "outputs": [],
   "source": [
    "import logging\n",
    "cobra.io.sbml.LOGGER.setLevel(logging.ERROR)\n",
    "\n",
    "MitoCore = cobra.io.read_sbml_model('mitocore_v1.01.xml')"
   ]
  },
  {
   "cell_type": "markdown",
   "id": "surprised-carbon",
   "metadata": {},
   "source": [
    "# 2. Value propagation\n",
    "\n",
    "We show that the **input conditions** (here, based on literature) strongly control the whole network."
   ]
  },
  {
   "cell_type": "code",
   "execution_count": null,
   "id": "running-break",
   "metadata": {},
   "outputs": [],
   "source": [
    "inits = pd.read_csv(\"Breast_CAF_initial_conditions.tsv\", sep=\"\\t\", index_col=0)\n",
    "dic_inits = inits.to_dict()"
   ]
  },
  {
   "cell_type": "markdown",
   "id": "moderate-classics",
   "metadata": {},
   "source": [
    "Definition of some helper functions and color mapping rules to perform value propagation and visualize the result."
   ]
  },
  {
   "cell_type": "code",
   "execution_count": null,
   "id": "dynamic-recording",
   "metadata": {},
   "outputs": [],
   "source": [
    "# Transforms a dictionary into a dash-like pattern used for space restrictions.\n",
    "# If a model has 4 components A, B, C, D in this order,\n",
    "#  {A:0, D:1} => \"0--1\"\n",
    "\n",
    "def dash_pattern(model, dict_vals):\n",
    "    specific_comps = dict_vals.keys()\n",
    "    str_pattern = \"\"\n",
    "    for comp in model.getComponents():\n",
    "        if comp.toString() in specific_comps:\n",
    "            str_pattern += str(dict_vals.get(comp.toString()))\n",
    "        else :\n",
    "            str_pattern += \"-\"\n",
    "    return(str_pattern)\n",
    "\n",
    "def restrict_model(model, **dict_vals):\n",
    "    pattern = dash_pattern(model, dict_vals)\n",
    "    return biolqm.restrict(model, pattern)\n",
    "\n",
    "def fill_fixed(data, names, functions, mddman):\n",
    "    all_values = [f for f in functions]\n",
    "    for comp, func in zip(names, functions):\n",
    "        if mddman.isleaf(func): data[comp] = func\n",
    "        else: data[comp] = -1\n",
    "    \n",
    "\n",
    "def get_fixed_pattern(all_names, model, as_dict=False):\n",
    "    # Build a container for the results\n",
    "    pattern = {key: 100 for key in all_names}\n",
    "    \n",
    "    # Model manager and core components\n",
    "    mddman = model.getMDDManager()\n",
    "    core_components = [node.getNodeID() for node in model.getComponents()]\n",
    "    extra_components = [node.getNodeID() for node in model.getExtraComponents()]\n",
    "    \n",
    "    # 1/ Non-extra values: if the model was not reduced, core components may also contain fixed values\n",
    "    fill_fixed(pattern, core_components, model.getLogicalFunctions(), mddman)\n",
    "    \n",
    "    # 2/ Extra values : only available after reduction/percolation\n",
    "    # Functions of each component\n",
    "    fill_fixed(pattern, extra_components, model.getExtraLogicalFunctions(), mddman)\n",
    "\n",
    "    if as_dict: return pattern\n",
    "    return pd.Series(pattern, dtype=np.byte)\n",
    "\n",
    "def get_fixed(gs_model, restricted_model, as_dict=False):\n",
    "    name_components = [ n.getId() for n in gs_model.getNodeOrder() ]\n",
    "    return get_fixed_pattern(name_components, restricted_model, as_dict)\n",
    "\n",
    "def show_fixed(gs_model, styler, fixed_pattern, save=None):\n",
    "    styler.setState(fixed_pattern.values.tobytes())\n",
    "    return ginsim.show(gs_model, style=styler, save=save)\n",
    "\n",
    "\n",
    "# Define color mapping rules\n",
    "styler_fixed = ginsim.lrg_style(lrg)\n",
    "styler_fixed.mapState2Color(0, 255, 255, 255)\n",
    "styler_fixed.mapState2Color(1, 100, 100, 255)\n",
    "styler_fixed.mapState2Color(-1, 255, 100, 100)"
   ]
  },
  {
   "cell_type": "code",
   "execution_count": null,
   "id": "criminal-english",
   "metadata": {},
   "outputs": [],
   "source": [
    "data = []\n",
    "\n",
    "for init_name, values in dic_inits.items():\n",
    "    lqm_model_restricted = restrict_model(CAF_model, **values)\n",
    "    data.append( get_fixed(lrg, lqm_model_restricted) )\n",
    "    \n",
    "df = pd.concat(data, axis=1, keys=[name for name in dic_inits])"
   ]
  },
  {
   "cell_type": "code",
   "execution_count": null,
   "id": "clinical-flavor",
   "metadata": {},
   "outputs": [],
   "source": [
    "df.to_csv(\"Breast_CAF_model_value_propagation.csv\")"
   ]
  },
  {
   "cell_type": "markdown",
   "id": "lyric-basis",
   "metadata": {},
   "source": [
    "The result of value propagation can be visualized in the following heatmap where each line represents a component of the system and the column represent the input condition. \n",
    "    \n",
    "- A **white cell** denotes that the corresponding component is **fixed at 0** by value propagation in this input condition;\n",
    "- A **blue cell** denotes that the corresponding component is **fixed at 1** by value propagation in this input condition;\n",
    "- A **red cells** denote components **which are not fixed** by value propagation in this input condition."
   ]
  },
  {
   "cell_type": "code",
   "execution_count": null,
   "id": "complete-serum",
   "metadata": {},
   "outputs": [],
   "source": [
    "plt.figure(figsize=(8,80))\n",
    "\n",
    "sns.heatmap(df, center=0, cmap=cmp, cbar=False)"
   ]
  },
  {
   "cell_type": "markdown",
   "id": "dietary-furniture",
   "metadata": {},
   "source": [
    "Propagated inputs for a specific input condition can also be mapped on the regulatory graph using the same color code."
   ]
  },
  {
   "cell_type": "code",
   "execution_count": null,
   "id": "golden-efficiency",
   "metadata": {},
   "outputs": [],
   "source": [
    "fixed = data[0]\n",
    "\n",
    "show_fixed(lrg, styler_fixed, fixed, save=\"Breast_CAF_model_value_propagation_visualization.svg\")"
   ]
  },
  {
   "cell_type": "markdown",
   "id": "latest-affair",
   "metadata": {},
   "source": [
    "# 3. Identification of breast CAF-model's trap-spaces \n",
    "\n",
    "## 3.1. Using the output of value propagation as a new set of initial conditions\n",
    "\n",
    "The biolqm.perturbation function enables the construction of a variant of the model, where the logical function of one or several components has been modified. A textual parameter describes the modification:\n",
    "\n",
    "    component%0 defines a knockout of a component\n",
    "    component%1 defines an ectopic expression\n",
    "    \n",
    "To perturbate the model, the output dataframe of value propagation is transformed as a list of perturbations in the form **'component1%value component2%value ... componentN%value'**."
   ]
  },
  {
   "cell_type": "code",
   "execution_count": null,
   "id": "earlier-provision",
   "metadata": {},
   "outputs": [],
   "source": [
    "df = df[df.C1 >= 0]\n",
    "df[\"modifs\"]= df.index.map(str) + \"%\" + df[\"C1\"].map(str) \n",
    "modifications = pd.DataFrame(df[\"modifs\"]).copy()\n",
    "modifications = modifications.reset_index(drop=True)\n",
    "pert = modifications[\"modifs\"].tolist()\n",
    "perturbations = \" \".join(pert)"
   ]
  },
  {
   "cell_type": "code",
   "execution_count": null,
   "id": "possible-schedule",
   "metadata": {},
   "outputs": [],
   "source": [
    "CAF_model_perturbated = biolqm.perturbation(CAF_model, perturbations)"
   ]
  },
  {
   "cell_type": "markdown",
   "id": "soviet-difficulty",
   "metadata": {},
   "source": [
    "## 3.2. Identification of CAF-model's regulatory trap-spaces\n",
    "\n",
    "A trap-space, also called stable motif or called symbolic steady state, is a partially assigned state such that all possible successors of all states which belong to the motif also belong to the motif. Like stable states, these stable motifs can be identified efficiently using constraint-solving methods."
   ]
  },
  {
   "cell_type": "code",
   "execution_count": null,
   "id": "statistical-heritage",
   "metadata": {},
   "outputs": [],
   "source": [
    "trapspaces = biolqm.trapspace(CAF_model_perturbated)"
   ]
  },
  {
   "cell_type": "code",
   "execution_count": null,
   "id": "qualified-garden",
   "metadata": {
    "scrolled": true
   },
   "outputs": [],
   "source": [
    "trapspaces_df = pd.DataFrame(trapspaces)\n",
    "trapspaces_df"
   ]
  },
  {
   "cell_type": "code",
   "execution_count": null,
   "id": "continuing-illness",
   "metadata": {},
   "outputs": [],
   "source": [
    "trapspaces_df.to_csv(\"complete_breast_CAF_model_trapspaces.csv\")"
   ]
  },
  {
   "cell_type": "markdown",
   "id": "distributed-wisdom",
   "metadata": {},
   "source": [
    "# 4. Projection of regulatory trap-spaces on metabolic compounds"
   ]
  },
  {
   "cell_type": "markdown",
   "id": "certain-rubber",
   "metadata": {},
   "source": [
    "## 4.1. Extraction of metabolic components \n",
    "\n",
    "To extract common enzymes and metabolites between MitoCore and the CAF-model we generate:\n",
    "\n",
    "- The list of enzymes in MitoCore;\n",
    "- The list of metabolites in MitoCore;\n",
    "- The list of compounds (both enzymes and metabolites) in the breast CAF-model.\n",
    "\n",
    "These list are used to compare both models and automatically extract common components (with their class: \"metabolic enzyme\" or \"metabolite\"). We exclude common metabolic intermediates."
   ]
  },
  {
   "cell_type": "code",
   "execution_count": null,
   "id": "favorite-milan",
   "metadata": {},
   "outputs": [],
   "source": [
    "MitoCore_Enzymes = [r.id for r in MitoCore.reactions]\n",
    "\n",
    "MitoCore_Metabolites = [m.id for m in MitoCore.metabolites]\n",
    "\n",
    "CAF_model_components = [n.getName().replace('_simple_molecule', '').replace('_active', '').replace('M_', '').replace('_mitochondria', '').replace('_Cytosol', '') for n in CAF_model.getComponents()]"
   ]
  },
  {
   "cell_type": "markdown",
   "id": "vocal-cooperative",
   "metadata": {},
   "source": [
    "### 4.1.1. Extracting common metabolic enzymes"
   ]
  },
  {
   "cell_type": "code",
   "execution_count": null,
   "id": "charged-cradle",
   "metadata": {},
   "outputs": [],
   "source": [
    "common_enzymes = list((set(CAF_model_components).intersection(MitoCore_Enzymes)))"
   ]
  },
  {
   "cell_type": "markdown",
   "id": "martial-duration",
   "metadata": {},
   "source": [
    "### 4.1.2. Extracting common metabolites\n",
    "\n",
    "We limit the metabolite matching by excluding a list of predefined compounds which are considered by MitoCore as metabolites but are common metabolic intermediates."
   ]
  },
  {
   "cell_type": "code",
   "execution_count": null,
   "id": "charitable-battle",
   "metadata": {},
   "outputs": [],
   "source": [
    "intermediates = [\"atp_c\", \"adp_c\", \"adn_c\", \"adp_m\", \"amp_c\", \"amp_m\", \"atp_m\", \"cdp_m\", \"cmp_c\", \"co_c\", \"co_e\",\n",
    "                 \"co2_c\", \"co2_e\", \"co2_m\", \"coa_c\", \"coa_m\", \"ctp_c\", \"fe2_c\", \"fe2_e\", \"fe2_m\", \"ficytC_c\",\n",
    "                 \"ficytC_e\", \"ficytC_m\", \"gdp_c\", \"gdp_m\", \"gtp_c\", \"gtp_m\", \"h_c\", \"h_e\", \"h_m\", \"h2o_c\", \"h2o_m\",\n",
    "                 \"h2o2_c\",\" h2o2_m\", \"hco3_c\", \"hco3_e\", \"hco3_m\", \"nad_c\", \"nad_e\", \"nad_m\", \"nadh_c\", \"nadh_e\",\n",
    "                 \"nadh_m\", \"nadp_c\", \"nadp_m\", \"nadph_c\", \"nadph_m\", \"no_c\", \"no_e\", \"o2_c\", \"o2_e\", \"o2_m\", \"o2s_m\",\n",
    "                 \"pheme_c\", \"pheme_m\", \"pi_c\", \"pi_e\", \"pi_m\", \"q10_m\", \"q10h2_m\"]"
   ]
  },
  {
   "cell_type": "code",
   "execution_count": null,
   "id": "minor-hungarian",
   "metadata": {},
   "outputs": [],
   "source": [
    "common_metabolites = list(set(CAF_model_components).intersection(MitoCore_Metabolites)-set(intermediates))"
   ]
  },
  {
   "cell_type": "markdown",
   "id": "tutorial-source",
   "metadata": {},
   "source": [
    "## 4.2. Projecting metabolic components' regulatory trap-spaces\n",
    "\n",
    "### 4.2.1. Projecting metabolic enzymes' regulatory trap-spaces"
   ]
  },
  {
   "cell_type": "code",
   "execution_count": null,
   "id": "historic-three",
   "metadata": {},
   "outputs": [],
   "source": [
    "trapspaces_df.columns = trapspaces_df.columns.str.replace(\"_Cytoplasm\",\"\").str.replace(\"_simple_molecule\",\"\").str.replace(\"_mitochondria\",\"\").str.replace(\"M_\",\"\")\n",
    "\n",
    "coltofiler = np.intersect1d(trapspaces_df.columns.values,common_enzymes)\n",
    "trapspaces_metabolic_enzymes = trapspaces_df[coltofiler]\n",
    "\n",
    "trapspaces_metabolic_enzymes\n",
    "trapspaces_metabolic_enzymes.to_csv(\"Breast_CAF_model_trapspaces_metabolic_enzymes.csv\")"
   ]
  },
  {
   "cell_type": "code",
   "execution_count": null,
   "id": "terminal-malpractice",
   "metadata": {},
   "outputs": [],
   "source": [
    "trapspaces_metabolic_enzymes"
   ]
  },
  {
   "cell_type": "markdown",
   "id": "arranged-military",
   "metadata": {},
   "source": [
    "### 4.2.2. Projecting metabolites' regulatory trap-spaces"
   ]
  },
  {
   "cell_type": "code",
   "execution_count": null,
   "id": "quantitative-alfred",
   "metadata": {},
   "outputs": [],
   "source": [
    "coltofiler = np.intersect1d(trapspaces_df.columns.values,common_metabolites)\n",
    "trapspaces_metabolites = trapspaces_df[coltofiler]\n",
    "\n",
    "trapspaces_metabolites\n",
    "trapspaces_metabolites.to_csv(\"Breast_CAF_model_trapspaces_metabolites.csv\")"
   ]
  },
  {
   "cell_type": "code",
   "execution_count": null,
   "id": "silent-repeat",
   "metadata": {},
   "outputs": [],
   "source": [
    "trapspaces_metabolites"
   ]
  },
  {
   "cell_type": "markdown",
   "id": "noticed-european",
   "metadata": {},
   "source": [
    "# 5. Flux Balance Analysis (FBA)"
   ]
  },
  {
   "cell_type": "markdown",
   "id": "future-international",
   "metadata": {},
   "source": [
    "Definition of an **ATP_total** objective function representing maximum cellular ATP production through glycolysis and oxidative phosphorylation:"
   ]
  },
  {
   "cell_type": "code",
   "execution_count": null,
   "id": "norwegian-apache",
   "metadata": {},
   "outputs": [],
   "source": [
    "MitoCore.objective = [\"PYK\", \"PGK\", \"CV_MitoCore\"]"
   ]
  },
  {
   "cell_type": "markdown",
   "id": "catholic-insight",
   "metadata": {},
   "source": [
    "## 5.1. FBA n°1: Control"
   ]
  },
  {
   "cell_type": "code",
   "execution_count": null,
   "id": "unsigned-compensation",
   "metadata": {},
   "outputs": [],
   "source": [
    "ATP_total_CTL = MitoCore.optimize().objective_value"
   ]
  },
  {
   "cell_type": "code",
   "execution_count": null,
   "id": "strange-velvet",
   "metadata": {
    "scrolled": false
   },
   "outputs": [],
   "source": [
    "MitoCore.summary()"
   ]
  },
  {
   "cell_type": "code",
   "execution_count": null,
   "id": "confirmed-vienna",
   "metadata": {},
   "outputs": [],
   "source": [
    "solution = MitoCore.optimize()\n",
    "\n",
    "ATP_glycolysis_CTL = (solution.fluxes['PYK'] + solution.fluxes['PGK'])/(solution.objective_value)\n",
    "\n",
    "print(\"The proportion of global ATP production through glycolysis in control conditions is\", round(ATP_glycolysis_CTL, 4), \".\")"
   ]
  },
  {
   "cell_type": "code",
   "execution_count": null,
   "id": "several-vienna",
   "metadata": {},
   "outputs": [],
   "source": [
    "pd.DataFrame(MitoCore.optimize().fluxes).to_csv('FBA_CTL_obj_ATP.csv')"
   ]
  },
  {
   "cell_type": "markdown",
   "id": "utility-witch",
   "metadata": {},
   "source": [
    "## 5.2. FBA n°2: Breast CAF-specific\n",
    "\n",
    "### 5.2.1. Constraining metabolic fluxes with regulatory trap-spaces \n",
    "\n",
    "#### 5.2.1.1. Constraining metabolic fluxes with maximum metabolic enzymes' regulatory trap-spaces equal to 0"
   ]
  },
  {
   "cell_type": "code",
   "execution_count": null,
   "id": "artificial-despite",
   "metadata": {},
   "outputs": [],
   "source": [
    "trapspaces_metabolic_enzymes_zero = trapspaces_metabolic_enzymes.loc[:,(trapspaces_metabolic_enzymes.max(axis=0)) == 0]\n",
    "enzymes_to_zero = trapspaces_metabolic_enzymes_zero.columns.values.tolist()\n",
    "\n",
    "enzymes_to_zero"
   ]
  },
  {
   "cell_type": "markdown",
   "id": "brave-clarity",
   "metadata": {},
   "source": [
    "Setting the constraints:"
   ]
  },
  {
   "cell_type": "code",
   "execution_count": null,
   "id": "insured-occasions",
   "metadata": {},
   "outputs": [],
   "source": [
    "for i in enzymes_to_zero:\n",
    "    MitoCore.reactions.get_by_id(i).lower_bound = 0\n",
    "    MitoCore.reactions.get_by_id(i).upper_bound = 0"
   ]
  },
  {
   "cell_type": "markdown",
   "id": "orange-grace",
   "metadata": {},
   "source": [
    "#### 5.2.1.2. Constraining metabolic fluxes with maximal metabolites' regulatory trap-spaces eual to 0"
   ]
  },
  {
   "cell_type": "code",
   "execution_count": null,
   "id": "modified-failure",
   "metadata": {},
   "outputs": [],
   "source": [
    "trapspaces_metabolites_zero = trapspaces_metabolites.loc[:,(trapspaces_metabolites.max(axis=0)) == 0]\n",
    "metabolites_to_zero = trapspaces_metabolites_zero.columns.values.tolist()\n",
    "\n",
    "metabolites_to_zero"
   ]
  },
  {
   "cell_type": "code",
   "execution_count": null,
   "id": "after-provision",
   "metadata": {},
   "outputs": [],
   "source": [
    "producing_reactions_metabolite_to_zero  = []\n",
    "\n",
    "for i in metabolites_to_zero:\n",
    "    producing_reactions_metabolite_to_zero1 = MitoCore.metabolites.get_by_id(i).summary().producing_flux.index.values.tolist()\n",
    "    producing_reactions_metabolite_to_zero  = producing_reactions_metabolite_to_zero + producing_reactions_metabolite_to_zero1"
   ]
  },
  {
   "cell_type": "code",
   "execution_count": null,
   "id": "administrative-formula",
   "metadata": {},
   "outputs": [],
   "source": [
    "producing_reactions_metabolite_to_zero"
   ]
  },
  {
   "cell_type": "markdown",
   "id": "fiscal-stocks",
   "metadata": {},
   "source": [
    "Setting the constraints:"
   ]
  },
  {
   "cell_type": "code",
   "execution_count": null,
   "id": "similar-subscription",
   "metadata": {},
   "outputs": [],
   "source": [
    "for i in producing_reactions_metabolite_to_zero:\n",
    "    MitoCore.reactions.get_by_id(i).lower_bound = 0\n",
    "    MitoCore.reactions.get_by_id(i).upper_bound = 0"
   ]
  },
  {
   "cell_type": "markdown",
   "id": "talented-evening",
   "metadata": {},
   "source": [
    "## 5.2. FBA"
   ]
  },
  {
   "cell_type": "code",
   "execution_count": null,
   "id": "expired-desktop",
   "metadata": {},
   "outputs": [],
   "source": [
    "ATP_total_CAF = MitoCore.optimize().objective_value"
   ]
  },
  {
   "cell_type": "code",
   "execution_count": null,
   "id": "outdoor-opera",
   "metadata": {},
   "outputs": [],
   "source": [
    "MitoCore.summary()"
   ]
  },
  {
   "cell_type": "code",
   "execution_count": null,
   "id": "generic-chick",
   "metadata": {},
   "outputs": [],
   "source": [
    "solution = MitoCore.optimize()\n",
    "\n",
    "ATP_glycolysis_CAF = (solution.fluxes['PYK'] + solution.fluxes['PGK'])/(solution.objective_value)\n",
    "\n",
    "print(\"The proportion of global ATP production through glycolysis in CAF-specific conditions is\", round(ATP_glycolysis_CAF, 4), \".\")"
   ]
  },
  {
   "cell_type": "code",
   "execution_count": null,
   "id": "prescribed-depression",
   "metadata": {},
   "outputs": [],
   "source": [
    "pd.DataFrame(MitoCore.optimize().fluxes).to_csv('FBA_CAF_obj_ATP.csv')"
   ]
  },
  {
   "cell_type": "code",
   "execution_count": null,
   "id": "sound-charlotte",
   "metadata": {},
   "outputs": [],
   "source": []
  }
 ],
 "metadata": {
  "kernelspec": {
   "display_name": "Python 3",
   "language": "python",
   "name": "python3"
  },
  "language_info": {
   "codemirror_mode": {
    "name": "ipython",
    "version": 3
   },
   "file_extension": ".py",
   "mimetype": "text/x-python",
   "name": "python",
   "nbconvert_exporter": "python",
   "pygments_lexer": "ipython3",
   "version": "3.9.1"
  }
 },
 "nbformat": 4,
 "nbformat_minor": 5
}
